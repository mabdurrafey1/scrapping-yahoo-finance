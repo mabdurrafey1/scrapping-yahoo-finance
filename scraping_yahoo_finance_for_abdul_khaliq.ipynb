{
  "nbformat": 4,
  "nbformat_minor": 0,
  "metadata": {
    "colab": {
      "name": "scraping yahoo finance for abdul_khaliq.ipynb",
      "provenance": [],
      "collapsed_sections": [],
      "include_colab_link": true
    },
    "kernelspec": {
      "name": "python3",
      "display_name": "Python 3"
    },
    "language_info": {
      "name": "python"
    },
    "accelerator": "GPU"
  },
  "cells": [
    {
      "cell_type": "markdown",
      "metadata": {
        "id": "view-in-github",
        "colab_type": "text"
      },
      "source": [
        "<a href=\"https://colab.research.google.com/github/mabdurrafey1/scrapping-yahoo-finance/blob/main/scraping_yahoo_finance_for_abdul_khaliq.ipynb\" target=\"_parent\"><img src=\"https://colab.research.google.com/assets/colab-badge.svg\" alt=\"Open In Colab\"/></a>"
      ]
    },
    {
      "cell_type": "code",
      "metadata": {
        "id": "WgL-p5VZnXX7"
      },
      "source": [
        "!pip install kora -q\n",
        "from kora.selenium import wd\n",
        "from bs4 import BeautifulSoup as bs\n",
        "import time\n",
        "import pandas as pd\n",
        "from datetime import datetime\n",
        "from google.colab import auth\n",
        "auth.authenticate_user()\n",
        "\n",
        "import gspread\n",
        "from oauth2client.client import GoogleCredentials\n",
        "\n",
        "gc = gspread.authorize(GoogleCredentials.get_application_default())\n",
        "\n",
        "wb = gc.open_by_key('1JirUWvVLQy9CgAd-TyHtl4hsKyAYbx4hcooSiz3zWTU')\n",
        " "
      ],
      "execution_count": null,
      "outputs": []
    },
    {
      "cell_type": "code",
      "metadata": {
        "id": "byuTkd3Zlcu8",
        "colab": {
          "base_uri": "https://localhost:8080/"
        },
        "outputId": "9bd79450-150a-4c05-e5b9-cdaa845560c3"
      },
      "source": [
        "ws=wb.worksheet(\"mywork\")\n",
        "data=ws.get_all_values()\n",
        "length=len(data)\n",
        "lengthWs=0\n",
        "symbols_ws=wb.worksheet(\"listofSymbols\")\n",
        "symbols_data=symbols_ws.get_all_values()\n",
        "for i in range(length):\n",
        "  if data[i][0]=='':\n",
        "    lengthWs=i\n",
        "    break\n",
        "print(lengthWs)\n",
        "datetoday = datetime.now().strftime(\"%Y-%m-%d\")\n",
        "ws.update_cell(lengthWs+1,1,datetoday)\n",
        "lengthWs=lengthWs\n",
        "\n",
        "def getAndWrite(symbol,exchange,row):\n",
        "  premarketurlfirst='https://finance.yahoo.com/quotes/'\n",
        "  premarketurlsecond=',PREMARKET/view/v1'\n",
        "  premarket_url=premarketurlfirst+symbol+premarketurlsecond\n",
        "  print(premarket_url)\n",
        "  aftermarketurlfirst='https://finance.yahoo.com/quotes/'\n",
        "  aftermarketurlsecond=',AFTERMARKET/view/v1'\n",
        "  aftermarket_url=aftermarketurlfirst+symbol+aftermarketurlsecond\n",
        "  \n",
        "  wd.get(premarket_url)\n",
        "  time.sleep(1)\n",
        "  try:\n",
        "    df=pd.read_html(wd.page_source)\n",
        "  except:\n",
        "    wd.save_screenshot(\"error.png\")\n",
        "    print(\"Please try again after 5 minuts\")\n",
        "    return\n",
        "  preval=df[0].values.tolist()[0][1]\n",
        "  prevol=df[0].values.tolist()[0][6]\n",
        "  \n",
        "  wd.get(aftermarket_url)\n",
        "  time.sleep(1)\n",
        "  try:\n",
        "    df=pd.read_html(wd.page_source)\n",
        "  except:\n",
        "    wd.save_screenshot(\"error.png\")\n",
        "    print(\"Please try again after 5 minuts\")\n",
        "    return\n",
        "  afterval=df[0].values.tolist()[0][1]\n",
        "  aftervol=df[0].values.tolist()[0][6]\n",
        "  \n",
        "  \n",
        "  ws.update_cell(row,1,datetoday)\n",
        "  \n",
        "  ws.update_cell(row,5,exchange)\n",
        "  ws.update_cell(row,6,symbol)\n",
        "  ws.update_cell(row,14,preval)\n",
        "  ws.update_cell(row,16,prevol)\n",
        "  ws.update_cell(row,17,afterval)\n",
        "  ws.update_cell(row,19,aftervol)\n",
        "\n",
        "\n",
        "for i in range(0,len(symbols_data)):\n",
        "  # if i==0:\n",
        "  #  getAndWrite(symbols_data[i][1],symbols_data[i][0],lengthWs+1+1) \n",
        "  # else:\n",
        "  getAndWrite(symbols_data[i][1],symbols_data[i][0],lengthWs+1+1)\n",
        "  lengthWs=lengthWs+1\n"
      ],
      "execution_count": null,
      "outputs": [
        {
          "output_type": "stream",
          "text": [
            "8\n",
            "https://finance.yahoo.com/quotes/SNOA,PREMARKET/view/v1\n",
            "https://finance.yahoo.com/quotes/RAIL,PREMARKET/view/v1\n",
            "https://finance.yahoo.com/quotes/UAVS,PREMARKET/view/v1\n",
            "https://finance.yahoo.com/quotes/ACY,PREMARKET/view/v1\n",
            "https://finance.yahoo.com/quotes/BTX,PREMARKET/view/v1\n",
            "https://finance.yahoo.com/quotes/MTSL,PREMARKET/view/v1\n",
            "https://finance.yahoo.com/quotes/EBET,PREMARKET/view/v1\n",
            "https://finance.yahoo.com/quotes/EYES,PREMARKET/view/v1\n",
            "https://finance.yahoo.com/quotes/OPGN,PREMARKET/view/v1\n",
            "https://finance.yahoo.com/quotes/IMVT,PREMARKET/view/v1\n",
            "https://finance.yahoo.com/quotes/AEI,PREMARKET/view/v1\n",
            "https://finance.yahoo.com/quotes/INVO,PREMARKET/view/v1\n",
            "https://finance.yahoo.com/quotes/XELA,PREMARKET/view/v1\n",
            "https://finance.yahoo.com/quotes/ANPC,PREMARKET/view/v1\n",
            "https://finance.yahoo.com/quotes/SCKT,PREMARKET/view/v1\n",
            "https://finance.yahoo.com/quotes/AACG,PREMARKET/view/v1\n",
            "https://finance.yahoo.com/quotes/DLPN,PREMARKET/view/v1\n",
            "https://finance.yahoo.com/quotes/SPI,PREMARKET/view/v1\n",
            "https://finance.yahoo.com/quotes/TKAT,PREMARKET/view/v1\n",
            "https://finance.yahoo.com/quotes/WAFU,PREMARKET/view/v1\n",
            "https://finance.yahoo.com/quotes/EEIQ,PREMARKET/view/v1\n",
            "https://finance.yahoo.com/quotes/UTME,PREMARKET/view/v1\n",
            "Please try again after 5 minuts\n",
            "https://finance.yahoo.com/quotes/MYMD,PREMARKET/view/v1\n",
            "https://finance.yahoo.com/quotes/PETZ,PREMARKET/view/v1\n",
            "https://finance.yahoo.com/quotes/DOGZ,PREMARKET/view/v1\n",
            "https://finance.yahoo.com/quotes/OBLN,PREMARKET/view/v1\n",
            "https://finance.yahoo.com/quotes/BPTH,PREMARKET/view/v1\n",
            "Please try again after 5 minuts\n",
            "https://finance.yahoo.com/quotes/KODK,PREMARKET/view/v1\n",
            "https://finance.yahoo.com/quotes/BNGO,PREMARKET/view/v1\n"
          ],
          "name": "stdout"
        }
      ]
    },
    {
      "cell_type": "code",
      "metadata": {
        "id": "cSrTdMOK-Ssr"
      },
      "source": [
        "# get_all_values gives a list of rows.\n",
        "rows = ws.get_all_values()\n",
        "# print(rows)\n",
        "\n",
        "# Convert to a DataFrame and render.\n",
        "# import pandas as pd\n",
        "df=pd.DataFrame.from_records(rows[5:],columns=rows[0])\n",
        "print(df)"
      ],
      "execution_count": null,
      "outputs": []
    },
    {
      "cell_type": "code",
      "metadata": {
        "id": "WFqCkxlRsZ7A"
      },
      "source": [
        "ws.get_all_values()[7][16]"
      ],
      "execution_count": null,
      "outputs": []
    }
  ]
}